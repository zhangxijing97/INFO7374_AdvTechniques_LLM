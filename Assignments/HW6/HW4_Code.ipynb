{
 "cells": [
  {
   "cell_type": "code",
   "execution_count": 2,
   "id": "26d90d0d-3387-48f7-8404-1dfb787250e3",
   "metadata": {},
   "outputs": [
    {
     "name": "stdout",
     "output_type": "stream",
     "text": [
      "Embedding vector for Paris is:  [-0.00917433 -0.11059774  2.488046   -2.5146384   0.62871647 -3.1732657\n",
      "  0.90385646  3.2770584  -2.4742134  -0.9228608  -0.35171983 -0.8334492\n",
      "  0.9206969  -1.818224   -0.9946487   1.6203382   0.82389283 -0.58443505\n",
      "  0.48763856 -2.1840718   2.8603263  -1.6862586   1.102211   -1.6863215\n",
      "  0.73786515 -0.8014823  -2.0887911   2.9594882  -1.7370529   0.33907357\n",
      " -0.38531563 -1.0342213   0.26030204  0.6714456   0.8184758   2.421608\n",
      "  0.8068048  -0.49732244 -0.30816045  0.6578026   1.3870131  -0.7900264\n",
      "  2.456245    0.49237263 -2.4048564   0.5763628   0.56133485  0.3310079\n",
      "  0.3066457  -1.4635477   0.05603442  1.5848318  -2.0002089  -1.6244224\n",
      " -2.1305008  -1.5585443   3.4492524  -1.1358736   0.30056494  2.0395448\n",
      "  0.2428187   0.6932253   1.7242355   0.23088472  0.32969734  1.3200253\n",
      "  2.5216997   0.20841685  2.2979505  -1.2671105 ]\n",
      "Similar to France:  [('france', 0.9999999403953552), ('spain', 0.8372078537940979), ('italy', 0.8171488642692566)]\n",
      "Similar to Paris:  [('paris', 1.0), ('vienna', 0.7791445851325989), ('bologna', 0.76152104139328)]\n",
      "Transform:  [('spain', 0.7141615748405457), ('france', 0.7085016965866089), ('finland', 0.6896238327026367)]\n",
      "Embedding  0  is in cluster  1\n",
      "Embedding  1  is in cluster  0\n",
      "Embedding  2  is in cluster  1\n",
      "Embedding  3  is in cluster  0\n"
     ]
    }
   ],
   "source": [
    "from gensim.models.word2vec import Word2Vec\n",
    "import gensim.downloader as api\n",
    "from sklearn.cluster import KMeans\n",
    "import numpy as np\n",
    "\n",
    "corpus = api.load('text8')\n",
    "\n",
    "# Train Word2Vec model\n",
    "model = Word2Vec(sentences=corpus, window=5, vector_size=70)\n",
    "\n",
    "print(\"Embedding vector for Paris is: \", model.wv['paris'])\n",
    "\n",
    "print('Similar to France: ', model.wv.similar_by_vector (model.wv['france'],topn=3))\n",
    "print('Similar to Paris: ', model.wv.similar_by_vector (model.wv['paris'],topn=3))\n",
    "\n",
    "# Find most similar embeddings to a transformed embedding\n",
    "transform = model.wv['france'] - model.wv['paris']\n",
    "print('Transform: ', model.wv.similar_by_vector ( transform + model.wv['madrid'] ,topn=3))\n",
    "\n",
    "# Some word embeddings\n",
    "embeddings =np.array([\n",
    "model.wv['paris'] , model.wv['he'],\n",
    "model.wv['vienna'] , model.wv['she']\n",
    "])\n",
    "\n",
    "# K-means clustering\n",
    "kmeans = KMeans(n_clusters=2)\n",
    "kmeans.fit(embeddings)\n",
    "\n",
    "# Print cluster assignments\n",
    "for i, label in enumerate(kmeans.labels_):\n",
    "    print(\"Embedding \", i, \" is in cluster \", label)"
   ]
  },
  {
   "cell_type": "code",
   "execution_count": null,
   "id": "cf90b6cb-c6a0-4ae0-b074-01ab5120f430",
   "metadata": {},
   "outputs": [],
   "source": []
  }
 ],
 "metadata": {
  "kernelspec": {
   "display_name": "Python 3 (ipykernel)",
   "language": "python",
   "name": "python3"
  },
  "language_info": {
   "codemirror_mode": {
    "name": "ipython",
    "version": 3
   },
   "file_extension": ".py",
   "mimetype": "text/x-python",
   "name": "python",
   "nbconvert_exporter": "python",
   "pygments_lexer": "ipython3",
   "version": "3.11.4"
  }
 },
 "nbformat": 4,
 "nbformat_minor": 5
}
