{
 "cells": [
  {
   "cell_type": "code",
   "execution_count": 14,
   "id": "1cb584c3-bfdb-4bd7-abe5-8cda789753d6",
   "metadata": {},
   "outputs": [
    {
     "name": "stdout",
     "output_type": "stream",
     "text": [
      "Translated Text:\n",
      " I appreciate the seriousness with which this restaurant takes food allergies. As an allergic person to nuts, I felt completely safe dining here. In addition, their gluten-free and vegan options were a pleasant surprise. Highly recommended to anyone with food restrictions Community Verified icon\n",
      "\n",
      "Summarized Text:\n",
      " I recently had my first meal at a restaurant that takes food allergies very seriously.\n",
      "\n",
      "Sentiment Analysis:\n",
      " [{'label': 'POSITIVE', 'score': 0.997819185256958}]\n"
     ]
    }
   ],
   "source": [
    "from transformers import pipeline\n",
    "\n",
    "# Initialize the translation pipeline (French to English)\n",
    "translate = pipeline('translation_fr_to_en', model='Helsinki-NLP/opus-mt-fr-en')\n",
    "\n",
    "# The French text to be translated\n",
    "text_fr = \"\"\"J'apprécie le sérieux avec lequel ce restaurant prend les allergies alimentaires. En tant que personne allergique aux noix, je me sentais complètement en sécurité en dînant ici. De plus, leurs options sans gluten et végétaliennes ont été une agréable surprise. Fortement recommandé à toute personne ayant des restrictions alimentaires Community Verified icon\"\"\"\n",
    "\n",
    "# Translate the text from French to English\n",
    "translated_text = translate(text_fr)[0]['translation_text']\n",
    "print(\"Translated Text:\\n\", translated_text)\n",
    "\n",
    "# Initialize the summarization pipeline\n",
    "summarize = pipeline('summarization', model='facebook/bart-large-xsum')\n",
    "\n",
    "# Summarize the translated text\n",
    "summary = summarize(translated_text, min_length=5, max_length=40, do_sample=False)\n",
    "summary_text = summary[0]['summary_text']\n",
    "print(\"\\nSummarized Text:\\n\", summary_text)\n",
    "\n",
    "# Initialize the sentiment analysis pipeline\n",
    "analyze_sentiment = pipeline('text-classification',model=\"distilbert/distilbert-base-uncased-finetuned-sst-2-english\")\n",
    "\n",
    "# Apply sentiment analysis on the summarized text\n",
    "sentiment = analyze_sentiment(summary_text)\n",
    "print(\"\\nSentiment Analysis:\\n\", sentiment)"
   ]
  },
  {
   "cell_type": "code",
   "execution_count": 2,
   "id": "4238e0ad-0c96-4383-8d44-2e8d6c8b20e5",
   "metadata": {},
   "outputs": [
    {
     "name": "stdout",
     "output_type": "stream",
     "text": [
      "Results with Temperature 0.1:\n",
      "Attempt 1: 1. Hypotension\n",
      "2. Tach\n",
      "Attempt 2: 1. Hypotension\n",
      "2. Tach\n",
      "Attempt 3: 1. Hypovolemia\n",
      "2. Arr\n",
      "Attempt 4: 1. Hypovolemic Shock\n",
      "2.\n",
      "Attempt 5: 1. Hypovolemia\n",
      "2. Sept\n",
      "\n",
      "Results with Temperature 1.4:\n",
      "Attempt 1: 1. Cardiomyopathy\n",
      "2. Arr\n",
      "Attempt 2: 1. Hypotension\n",
      "2. Arrhythm\n",
      "Attempt 3: 1. Hypovolemia\n",
      "2. Card\n",
      "Attempt 4: 1. Cardiogenic shock\n",
      "2. Vas\n",
      "Attempt 5: 1. Hypotension\n",
      "2. Atrial\n"
     ]
    }
   ],
   "source": [
    "import openai\n",
    "\n",
    "openai.api_key = 'key'\n",
    "\n",
    "def get_diagnosis(temperature):\n",
    "    prompt = \"a patient has a low blood pressure and a high heart rate. just give me names of three most probable diseases without any other word.\"\n",
    "    responses = []\n",
    "    \n",
    "    for i in range(5):\n",
    "        response = openai.ChatCompletion.create(\n",
    "            model=\"gpt-4\",\n",
    "            messages=[{\"role\": \"user\", \"content\": prompt}],\n",
    "            temperature=temperature,\n",
    "            max_tokens=10  # Keeping it low to ensure only names are returned\n",
    "        )\n",
    "        disease_names = response['choices'][0]['message']['content'].strip()\n",
    "        responses.append(disease_names)\n",
    "    \n",
    "    return responses\n",
    "\n",
    "# Run the query with temperatures 0.1 and 1.4\n",
    "temp_0_1_results = get_diagnosis(0.1)\n",
    "temp_1_4_results = get_diagnosis(1.4)\n",
    "\n",
    "# Display the results for each temperature\n",
    "print(\"Results with Temperature 0.1:\")\n",
    "for i, result in enumerate(temp_0_1_results, 1):\n",
    "    print(f\"Attempt {i}: {result}\")\n",
    "\n",
    "print(\"\\nResults with Temperature 1.4:\")\n",
    "for i, result in enumerate(temp_1_4_results, 1):\n",
    "    print(f\"Attempt {i}: {result}\")"
   ]
  },
  {
   "cell_type": "code",
   "execution_count": null,
   "id": "1a6d3b86-6b26-4ab9-9e32-05ceb6f76e2b",
   "metadata": {},
   "outputs": [],
   "source": []
  }
 ],
 "metadata": {
  "kernelspec": {
   "display_name": "Python 3 (ipykernel)",
   "language": "python",
   "name": "python3"
  },
  "language_info": {
   "codemirror_mode": {
    "name": "ipython",
    "version": 3
   },
   "file_extension": ".py",
   "mimetype": "text/x-python",
   "name": "python",
   "nbconvert_exporter": "python",
   "pygments_lexer": "ipython3",
   "version": "3.11.4"
  }
 },
 "nbformat": 4,
 "nbformat_minor": 5
}
