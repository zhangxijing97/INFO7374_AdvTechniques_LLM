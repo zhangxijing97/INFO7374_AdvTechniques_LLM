{
 "cells": [
  {
   "cell_type": "code",
   "execution_count": 28,
   "id": "1fcc1c0f-fea7-4630-a626-c9088ce1212a",
   "metadata": {},
   "outputs": [
    {
     "name": "stderr",
     "output_type": "stream",
     "text": [
      "Some weights of the model checkpoint at bert-base-uncased were not used when initializing BertForMaskedLM: ['cls.seq_relationship.bias', 'cls.seq_relationship.weight']\n",
      "- This IS expected if you are initializing BertForMaskedLM from the checkpoint of a model trained on another task or with another architecture (e.g. initializing a BertForSequenceClassification model from a BertForPreTraining model).\n",
      "- This IS NOT expected if you are initializing BertForMaskedLM from the checkpoint of a model that you expect to be exactly identical (initializing a BertForSequenceClassification model from a BertForSequenceClassification model).\n"
     ]
    },
    {
     "name": "stdout",
     "output_type": "stream",
     "text": [
      "[{'score': 0.09747529029846191, 'token': 10533, 'token_str': 'carpenter', 'sequence': 'the man worked as a carpenter.'}, {'score': 0.05238306522369385, 'token': 15610, 'token_str': 'waiter', 'sequence': 'the man worked as a waiter.'}, {'score': 0.04962717741727829, 'token': 13362, 'token_str': 'barber', 'sequence': 'the man worked as a barber.'}, {'score': 0.03788601607084274, 'token': 15893, 'token_str': 'mechanic', 'sequence': 'the man worked as a mechanic.'}, {'score': 0.0376807376742363, 'token': 18968, 'token_str': 'salesman', 'sequence': 'the man worked as a salesman.'}]\n",
      "[{'score': 0.21981723606586456, 'token': 6821, 'token_str': 'nurse', 'sequence': 'the woman worked as a nurse.'}, {'score': 0.15974149107933044, 'token': 13877, 'token_str': 'waitress', 'sequence': 'the woman worked as a waitress.'}, {'score': 0.11547167599201202, 'token': 10850, 'token_str': 'maid', 'sequence': 'the woman worked as a maid.'}, {'score': 0.03796853497624397, 'token': 19215, 'token_str': 'prostitute', 'sequence': 'the woman worked as a prostitute.'}, {'score': 0.03042353130877018, 'token': 5660, 'token_str': 'cook', 'sequence': 'the woman worked as a cook.'}]\n",
      "[{'label': 'NEGATIVE', 'score': 0.9997925162315369}]\n",
      "In this article, we look at some of the most striking examples of how machines have changed the way we work.\n",
      "BART est en mesure de relever efficacement toute une gamme de défis liés à la LNP\n",
      "test\n"
     ]
    }
   ],
   "source": [
    "from transformers import pipeline\n",
    "import sentencepiece\n",
    "\n",
    "unmasker = pipeline('fill-mask', model='bert-base-uncased')\n",
    "print(unmasker(\"The man worked as a [MASK].\"))\n",
    "print(unmasker(\"The woman worked as a [MASK].\"))\n",
    "\n",
    "\n",
    "analyze_sentiment = pipeline('text-classification',model=\"distilbert/distilbert-base-uncased-finetuned-sst-2-english\")\n",
    "print(analyze_sentiment(\"The movie was bad\"))\n",
    "\n",
    "\n",
    "summarize = pipeline('summarization', model='facebook/bart-large-xsum')\n",
    "text = summarize(\"\"\"Machine has displaced human labour in today's factories and workshops.\n",
    "                           Machines have mostly taken over tasks that were once performed by hand.\n",
    "                           Machines has mostly supplanted human workers in telemarketing and customer support\"\"\",\n",
    "                 min_length=5, max_length=40, do_sample=False)\n",
    "print(text[0]['summary_text'])\n",
    "\n",
    "\n",
    "translate = pipeline('translation_en_to_fr', model='google-t5/t5-base')\n",
    "text= translate(\" BART is able to handle a range of NLP challenges effectively\")\n",
    "print(text[0]['translation_text'])\n",
    "\n",
    "# translate = pipeline('translation', src_lang='fr',tgt_lang='en',model='facebook/m2m100_418M')\n",
    "# text= translate(text[0]['translation_text'])\n",
    "# print(text[0]['translation_text'])"
   ]
  },
  {
   "cell_type": "code",
   "execution_count": null,
   "id": "b1804a51-867f-44ac-ab1f-bc52e3e80f16",
   "metadata": {},
   "outputs": [],
   "source": []
  }
 ],
 "metadata": {
  "kernelspec": {
   "display_name": "Python 3 (ipykernel)",
   "language": "python",
   "name": "python3"
  },
  "language_info": {
   "codemirror_mode": {
    "name": "ipython",
    "version": 3
   },
   "file_extension": ".py",
   "mimetype": "text/x-python",
   "name": "python",
   "nbconvert_exporter": "python",
   "pygments_lexer": "ipython3",
   "version": "3.11.4"
  }
 },
 "nbformat": 4,
 "nbformat_minor": 5
}
