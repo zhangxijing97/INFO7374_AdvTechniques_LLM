{
 "cells": [
  {
   "cell_type": "code",
   "execution_count": 1,
   "id": "d97e81c9-aee7-442d-ad96-277851086b6c",
   "metadata": {},
   "outputs": [
    {
     "name": "stdout",
     "output_type": "stream",
     "text": [
      "\n",
      "Setting A (Learning Rate = 0.4):\n",
      "Iter  x          Gradient   x_new     \n",
      "0     4.000000   6.000000   1.600000  \n",
      "1     1.600000   1.200000   1.120000  \n",
      "Final x value: 1.1199999999999999\n",
      "\n",
      "Setting B (Learning Rate = 0.7):\n",
      "Iter  x          Gradient   x_new     \n",
      "0     4.000000   6.000000   -0.200000 \n",
      "1     -0.200000  -2.400000  1.480000  \n",
      "2     1.480000   0.960000   0.808000  \n",
      "Final x value: 0.8080000000000003\n"
     ]
    }
   ],
   "source": [
    "# Gradient Descent Implementation\n",
    "\n",
    "def gradient_descent(learning_rate, start_x):\n",
    "    x = start_x\n",
    "    iterations = 0\n",
    "    history = []\n",
    "\n",
    "    # Define the derivative of the function\n",
    "    def derivative(x):\n",
    "        return 2 * x - 2\n",
    "\n",
    "    # Perform gradient descent until x is between 0.80 and 1.20\n",
    "    while not (0.80 <= x <= 1.20):\n",
    "        grad = derivative(x)\n",
    "        x_new = x - learning_rate * grad\n",
    "        history.append((iterations, x, grad, x_new))\n",
    "        x = x_new\n",
    "        iterations += 1\n",
    "\n",
    "    return history\n",
    "\n",
    "# Setting A: learning rate = 0.4\n",
    "history_a = gradient_descent(learning_rate=0.4, start_x=4)\n",
    "\n",
    "# Setting B: learning rate = 0.7\n",
    "history_b = gradient_descent(learning_rate=0.7, start_x=4)\n",
    "\n",
    "# Function to print the iterations\n",
    "def print_history(history, setting_name):\n",
    "    print(f\"\\n{setting_name}:\")\n",
    "    print(f\"{'Iter':<5} {'x':<10} {'Gradient':<10} {'x_new':<10}\")\n",
    "    for iter_num, x_old, grad, x_new in history:\n",
    "        print(f\"{iter_num:<5} {x_old:<10.6f} {grad:<10.6f} {x_new:<10.6f}\")\n",
    "    print(f\"Final x value: {x_new}\")\n",
    "\n",
    "# Print results for Setting A\n",
    "print_history(history_a, \"Setting A (Learning Rate = 0.4)\")\n",
    "\n",
    "# Print results for Setting B\n",
    "print_history(history_b, \"Setting B (Learning Rate = 0.7)\")\n"
   ]
  },
  {
   "cell_type": "code",
   "execution_count": 7,
   "id": "042111fa-aff6-48ee-9d1a-83969d8b730c",
   "metadata": {},
   "outputs": [
    {
     "name": "stdout",
     "output_type": "stream",
     "text": [
      "\n",
      "\n",
      "\n",
      "{'h': 3, 'o': 6, 'r': 7, 'er</w>': 12, 'e': 1, 'r</w>': 10, 'i': 4, 'hig': 15, 'w': 8, 'lo': 14, 'l': 5, 'hi': 13, 'h</w>': 9, '<unk>': 0, 'w</w>': 11, 'g': 2}\n"
     ]
    }
   ],
   "source": [
    "from tokenizers import Tokenizer\n",
    "from tokenizers.models import BPE\n",
    "from tokenizers.trainers import BpeTrainer\n",
    "from tokenizers import CharBPETokenizer\n",
    "\n",
    "# Instantiate tokenizer\n",
    "tokenizer = CharBPETokenizer()\n",
    "\n",
    "tokenizer.train([ \"/Users/zhangxijing/MasterNEU/INFO7374_AdvTechniques_LLM/Datasets//sample2.txt\"],min_frequency=2, vocab_size=30)\n",
    "\n",
    "print(tokenizer.get_vocab())\n",
    "\n",
    "# output = tokenizer.encode(\"highest\")\n",
    "# print(output.tokens)\n",
    "\n",
    "# output = tokenizer.encode(\"newer\")\n",
    "# print(output.tokens)\n",
    "# print(output.ids)\n",
    "\n",
    "# output = tokenizer.encode(\"higher is better\")\n",
    "# print(output.tokens)"
   ]
  },
  {
   "cell_type": "code",
   "execution_count": null,
   "id": "0ac86456-b9aa-4ded-a1cb-ff66ca4cf6b4",
   "metadata": {},
   "outputs": [],
   "source": []
  }
 ],
 "metadata": {
  "kernelspec": {
   "display_name": "Python 3 (ipykernel)",
   "language": "python",
   "name": "python3"
  },
  "language_info": {
   "codemirror_mode": {
    "name": "ipython",
    "version": 3
   },
   "file_extension": ".py",
   "mimetype": "text/x-python",
   "name": "python",
   "nbconvert_exporter": "python",
   "pygments_lexer": "ipython3",
   "version": "3.11.4"
  }
 },
 "nbformat": 4,
 "nbformat_minor": 5
}
