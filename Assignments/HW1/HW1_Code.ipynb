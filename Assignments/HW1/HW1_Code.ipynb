{
 "cells": [
  {
   "cell_type": "code",
   "execution_count": 2,
   "id": "c5a0348e-449b-41b3-8f07-83206b99b24e",
   "metadata": {},
   "outputs": [
    {
     "name": "stdout",
     "output_type": "stream",
     "text": [
      "Accuracy of KNN-3: 0.6053\n",
      "Accuracy of KNN-5: 0.7105\n"
     ]
    }
   ],
   "source": [
    "import pandas as pd\n",
    "from sklearn.model_selection import train_test_split\n",
    "from sklearn.neighbors import KNeighborsClassifier\n",
    "from sklearn.metrics import accuracy_score\n",
    "\n",
    "#Input Dateset\n",
    "org_df = pd.read_csv(\"/Users/zhangxijing/MasterNEU/INFO7374_AdvTechniques_LLM/Datasets/heart_attack.csv\")\n",
    "\n",
    "#Define features and label for KNN\n",
    "label_df =  org_df.loc[:,org_df.columns == 'heart_attack']\n",
    "feat_df =  org_df.loc[:,org_df.columns != 'heart_attack']\n",
    "\n",
    "#Normalize Data\n",
    "feat_df = (feat_df - feat_df.mean()) / feat_df.std()\n",
    "\n",
    "#Seperate test and train data\n",
    "train_x,test_x,train_y,test_y = train_test_split(feat_df,label_df,test_size=0.25)\n",
    "\n",
    "train_y = train_y.values.ravel()\n",
    "test_y = test_y.values.ravel()\n",
    "\n",
    "# KNN with 3 neighbors\n",
    "knn_3 = KNeighborsClassifier(n_neighbors=3)\n",
    "knn_3.fit(train_x, train_y)\n",
    "test_pred_y_3 = knn_3.predict(test_x)\n",
    "\n",
    "# Accuracy for KNN-3\n",
    "accuracy_knn_3 = accuracy_score(test_y, test_pred_y_3)\n",
    "print(f\"Accuracy of KNN-3: {accuracy_knn_3:.4f}\")\n",
    "\n",
    "# KNN with 5 neighbors\n",
    "knn_5 = KNeighborsClassifier(n_neighbors=5)\n",
    "knn_5.fit(train_x, train_y)\n",
    "test_pred_y_5 = knn_5.predict(test_x)\n",
    "\n",
    "# Accuracy for KNN-5\n",
    "accuracy_knn_5 = accuracy_score(test_y, test_pred_y_5)\n",
    "print(f\"Accuracy of KNN-5: {accuracy_knn_5:.4f}\")"
   ]
  },
  {
   "cell_type": "code",
   "execution_count": null,
   "id": "cca2253a-22b0-4363-a5f4-d0218c68fee5",
   "metadata": {},
   "outputs": [],
   "source": []
  }
 ],
 "metadata": {
  "kernelspec": {
   "display_name": "Python 3 (ipykernel)",
   "language": "python",
   "name": "python3"
  },
  "language_info": {
   "codemirror_mode": {
    "name": "ipython",
    "version": 3
   },
   "file_extension": ".py",
   "mimetype": "text/x-python",
   "name": "python",
   "nbconvert_exporter": "python",
   "pygments_lexer": "ipython3",
   "version": "3.11.4"
  }
 },
 "nbformat": 4,
 "nbformat_minor": 5
}
