{
 "cells": [
  {
   "cell_type": "code",
   "execution_count": 4,
   "id": "c70ecdde-491f-4afc-b815-d11383ca29ae",
   "metadata": {},
   "outputs": [
    {
     "name": "stdout",
     "output_type": "stream",
     "text": [
      "\n",
      "\n",
      "\n",
      "{'co': 15, 'h': 4, 't</w>': 11, 'l</w>': 14, 'l': 6, '<unk>': 0, 'er</w>': 20, 't': 10, 'coo': 17, 'cool': 21, 'high': 22, 'e': 2, 'i': 5, 'es': 19, 'c': 1, 'g': 3, 'hi': 16, 'o': 7, 'r': 8, 's': 9, 'r</w>': 13, 'hig': 18, 'est</w>': 23, 'h</w>': 12}\n",
      "['high', 'est</w>']\n",
      "XXXXX\n",
      "['e', 'er</w>']\n",
      "[2, 20]\n",
      "XXXXX\n",
      "['high', 'er</w>', 'i', 'e', 't', 't', 'er</w>']\n"
     ]
    }
   ],
   "source": [
    "from tokenizers import Tokenizer\n",
    "from tokenizers.models import BPE\n",
    "from tokenizers.trainers import BpeTrainer\n",
    "from tokenizers import CharBPETokenizer\n",
    "\n",
    "# Instantiate tokenizer\n",
    "tokenizer = CharBPETokenizer()\n",
    "\n",
    "tokenizer.train([ \"/Users/zhangxijing/MasterNEU/INFO7374_AdvTechniques_LLM/Datasets//sample.txt\"],min_frequency=2, vocab_size=30)\n",
    "\n",
    "print(tokenizer.get_vocab())\n",
    "\n",
    "output = tokenizer.encode(\"highest\")\n",
    "print(output.tokens)\n",
    "\n",
    "output = tokenizer.encode(\"newer\")\n",
    "print(output.tokens)\n",
    "print(output.ids)\n",
    "\n",
    "output = tokenizer.encode(\"higher is better\")\n",
    "print(output.tokens)"
   ]
  },
  {
   "cell_type": "code",
   "execution_count": 22,
   "id": "e7682e9a-4155-4953-92e5-ec68dcd9aca6",
   "metadata": {},
   "outputs": [
    {
     "name": "stdout",
     "output_type": "stream",
     "text": [
      "\n",
      "\n",
      "\n",
      "\n",
      "\n",
      "\n",
      "\n",
      "\n",
      "\n",
      "min_frequency=2, vocab_size=20\n",
      "Tokens: ['h', 'e', 'i', 's', 'u', 'n', 'f', 'a', 'i', 'r', 'a', 'n', 'd', 'u', 'n', 'a', 'w', 'a', 'r', 'e', 'a', 'n', 'd', 'u', 'n', 'r', 'e', 's', 'p', 'o', 'n', 's', 'i', 'v', 'e']\n",
      "IDs: [6, 4, 7, 14, 16, 10, 5, 2, 7, 13, 2, 10, 3, 16, 10, 2, 18, 2, 13, 4, 2, 10, 3, 16, 10, 13, 4, 14, 12, 11, 10, 14, 7, 17, 4]\n",
      "\n",
      "min_frequency=2, vocab_size=50\n",
      "Tokens: ['he', 'is', 'un', 'fair', 'and', 'un', 'aware', 'and', 'un', 'responsive']\n",
      "IDs: [23, 24, 25, 37, 21, 25, 36, 21, 25, 39]\n",
      "\n",
      "min_frequency=3, vocab_size=50\n",
      "Tokens: ['he', 'is', 'un', 'f', 'a', 'i', 'r', 'and', 'un', 'a', 'w', 'a', 're', 'and', 'un', 're', 's', 'p', 'o', 'n', 's', 'i', 'v', 'e']\n",
      "IDs: [23, 24, 25, 5, 2, 7, 13, 21, 25, 2, 18, 2, 22, 21, 25, 22, 14, 12, 11, 10, 14, 7, 17, 4]\n",
      "\n"
     ]
    }
   ],
   "source": [
    "from tokenizers import Tokenizer\n",
    "from tokenizers.models import BPE\n",
    "from tokenizers.trainers import BpeTrainer\n",
    "from tokenizers.pre_tokenizers import Whitespace\n",
    "from tokenizers import normalizers\n",
    "from tokenizers.normalizers import NFD, Lowercase, StripAccents\n",
    "\n",
    "# Function to train and encode using a BPE tokenizer\n",
    "def train_and_encode(file_path, min_frequency, vocab_size, sentence):\n",
    "    # Initialize a BPE tokenizer\n",
    "    tokenizer = Tokenizer(BPE())\n",
    "    \n",
    "    # Set normalizer\n",
    "    tokenizer.normalizer = normalizers.Sequence([NFD(), Lowercase(), StripAccents()])\n",
    "    \n",
    "    # Set pre-tokenizer\n",
    "    tokenizer.pre_tokenizer = Whitespace()\n",
    "    \n",
    "    # Initialize the BPE trainer\n",
    "    trainer = BpeTrainer(min_frequency=min_frequency, vocab_size=vocab_size, special_tokens=[\"<unk>\"])\n",
    "    \n",
    "    # Train the tokenizer on the provided file\n",
    "    tokenizer.train([file_path], trainer)\n",
    "    \n",
    "    # Encode the sentence\n",
    "    encoded = tokenizer.encode(sentence)\n",
    "    \n",
    "    return encoded.tokens, encoded.ids\n",
    "\n",
    "# File path to the training data\n",
    "file_path = \"/Users/zhangxijing/MasterNEU/INFO7374_AdvTechniques_LLM/Datasets/train.txt\"\n",
    "\n",
    "# Sentence to encode\n",
    "sentence = \"he is unfair and unaware and unresponsive\"\n",
    "\n",
    "# Train and encode with different hyper-parameters\n",
    "params = [\n",
    "    (2, 20),\n",
    "    (2, 50),\n",
    "    (3, 50)\n",
    "]\n",
    "\n",
    "# Store results\n",
    "results = {}\n",
    "\n",
    "for min_freq, vocab_size in params:\n",
    "    tokens, ids = train_and_encode(file_path, min_freq, vocab_size, sentence)\n",
    "    results[(min_freq, vocab_size)] = {\n",
    "        \"tokens\": tokens,\n",
    "        \"ids\": ids\n",
    "    }\n",
    "\n",
    "# Print the results\n",
    "for key, value in results.items():\n",
    "    print(f\"min_frequency={key[0]}, vocab_size={key[1]}\")\n",
    "    print(\"Tokens:\", value[\"tokens\"])\n",
    "    print(\"IDs:\", value[\"ids\"])\n",
    "    print()"
   ]
  },
  {
   "cell_type": "code",
   "execution_count": null,
   "id": "26d90d0d-3387-48f7-8404-1dfb787250e3",
   "metadata": {},
   "outputs": [],
   "source": []
  }
 ],
 "metadata": {
  "kernelspec": {
   "display_name": "Python 3 (ipykernel)",
   "language": "python",
   "name": "python3"
  },
  "language_info": {
   "codemirror_mode": {
    "name": "ipython",
    "version": 3
   },
   "file_extension": ".py",
   "mimetype": "text/x-python",
   "name": "python",
   "nbconvert_exporter": "python",
   "pygments_lexer": "ipython3",
   "version": "3.11.4"
  }
 },
 "nbformat": 4,
 "nbformat_minor": 5
}
